{
 "cells": [
  {
   "cell_type": "code",
   "execution_count": 2,
   "metadata": {},
   "outputs": [],
   "source": [
    "from sklearn.model_selection import train_test_split\n",
    "import pandas as pd"
   ]
  },
  {
   "cell_type": "code",
   "execution_count": 5,
   "metadata": {},
   "outputs": [
    {
     "name": "stdout",
     "output_type": "stream",
     "text": [
      "Original dataset size: 1902116\n",
      "Sampled dataset size: 19021\n"
     ]
    }
   ],
   "source": [
    "# Load your dataset (assuming it's a DataFrame)\n",
    "df = pd.read_csv('./balanced_dataset.csv')\n",
    "\n",
    "# Define features and target\n",
    "X = df.drop(columns=[\"Label\"])  # Replace 'target' with your actual target column\n",
    "y = df[\"Label\"]\n",
    "\n",
    "# Reduce dataset to 10% while maintaining class ratio\n",
    "X_sampled, _, y_sampled, _ = train_test_split(X, y, test_size=0.99, stratify=y, random_state=42)\n",
    "\n",
    "# Combine sampled data into a new DataFrame\n",
    "df_sampled = pd.concat([X_sampled, y_sampled], axis=1)\n",
    "\n",
    "# Save or use the reduced dataset\n",
    "df_sampled.to_csv(\"sampled_dataset2.csv\", index=False)\n",
    "\n",
    "print(f\"Original dataset size: {df.shape[0]}\")\n",
    "print(f\"Sampled dataset size: {df_sampled.shape[0]}\")"
   ]
  }
 ],
 "metadata": {
  "kernelspec": {
   "display_name": "base",
   "language": "python",
   "name": "python3"
  },
  "language_info": {
   "codemirror_mode": {
    "name": "ipython",
    "version": 3
   },
   "file_extension": ".py",
   "mimetype": "text/x-python",
   "name": "python",
   "nbconvert_exporter": "python",
   "pygments_lexer": "ipython3",
   "version": "3.11.5"
  }
 },
 "nbformat": 4,
 "nbformat_minor": 2
}
